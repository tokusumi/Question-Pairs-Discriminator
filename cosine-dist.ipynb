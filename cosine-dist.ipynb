{
 "cells": [
  {
   "cell_type": "code",
   "execution_count": 1,
   "metadata": {},
   "outputs": [],
   "source": [
    "import pandas as pd\n",
    "import numpy as np"
   ]
  },
  {
   "cell_type": "markdown",
   "metadata": {},
   "source": [
    "# データ取得"
   ]
  },
  {
   "cell_type": "code",
   "execution_count": 2,
   "metadata": {},
   "outputs": [],
   "source": [
    "data = pd.read_csv('data/train.csv')"
   ]
  },
  {
   "cell_type": "code",
   "execution_count": 3,
   "metadata": {},
   "outputs": [],
   "source": [
    "data = data[['jap_question_1_wakati', 'jap_question_2_wakati', 'is_duplicate']]"
   ]
  },
  {
   "cell_type": "code",
   "execution_count": 4,
   "metadata": {},
   "outputs": [
    {
     "name": "stdout",
     "output_type": "stream",
     "text": [
      "<class 'pandas.core.frame.DataFrame'>\n",
      "RangeIndex: 24000 entries, 0 to 23999\n",
      "Data columns (total 3 columns):\n",
      "jap_question_1_wakati    24000 non-null object\n",
      "jap_question_2_wakati    24000 non-null object\n",
      "is_duplicate             24000 non-null int64\n",
      "dtypes: int64(1), object(2)\n",
      "memory usage: 562.6+ KB\n"
     ]
    }
   ],
   "source": [
    "data.info()"
   ]
  },
  {
   "cell_type": "code",
   "execution_count": 5,
   "metadata": {},
   "outputs": [],
   "source": [
    "from sklearn.model_selection import train_test_split\n",
    "_, data = train_test_split(data, shuffle=True, random_state=123)"
   ]
  },
  {
   "cell_type": "markdown",
   "metadata": {},
   "source": [
    "# tf-idfの取得"
   ]
  },
  {
   "cell_type": "code",
   "execution_count": 6,
   "metadata": {},
   "outputs": [],
   "source": [
    "data_all = pd.concat([data['jap_question_1_wakati'], data['jap_question_1_wakati']], axis=0\n",
    "                    ).to_numpy()"
   ]
  },
  {
   "cell_type": "code",
   "execution_count": 7,
   "metadata": {},
   "outputs": [],
   "source": [
    "from sklearn.feature_extraction.text import TfidfVectorizer"
   ]
  },
  {
   "cell_type": "code",
   "execution_count": 8,
   "metadata": {},
   "outputs": [
    {
     "data": {
      "text/plain": [
       "TfidfVectorizer(analyzer='word', binary=False, decode_error='strict',\n",
       "                dtype=<class 'numpy.float64'>, encoding='utf-8',\n",
       "                input='content', lowercase=True, max_df=1.0, max_features=None,\n",
       "                min_df=1, ngram_range=(1, 1), norm='l2', preprocessor=None,\n",
       "                smooth_idf=True, stop_words=None, strip_accents=None,\n",
       "                sublinear_tf=False, token_pattern='(?u)\\\\b\\\\w\\\\w+\\\\b',\n",
       "                tokenizer=None, use_idf=True, vocabulary=None)"
      ]
     },
     "execution_count": 8,
     "metadata": {},
     "output_type": "execute_result"
    }
   ],
   "source": [
    "vec_tfidf = TfidfVectorizer()\n",
    "\n",
    "vec_tfidf.fit(data_all)"
   ]
  },
  {
   "cell_type": "code",
   "execution_count": 9,
   "metadata": {},
   "outputs": [],
   "source": [
    "data1 = vec_tfidf.transform(data['jap_question_1_wakati'].to_numpy())\n",
    "data2 = vec_tfidf.transform(data['jap_question_2_wakati'].to_numpy())\n",
    "\n",
    "assert data1.shape == data2.shape and data1.shape[0] == len(data)"
   ]
  },
  {
   "cell_type": "markdown",
   "metadata": {},
   "source": [
    "# calculate cosine similarity\n",
    "tf-idfのcosine similarityが大きさでquestion pairsか否か判定する"
   ]
  },
  {
   "cell_type": "code",
   "execution_count": 10,
   "metadata": {},
   "outputs": [],
   "source": [
    "from sklearn.metrics.pairwise import cosine_similarity"
   ]
  },
  {
   "cell_type": "code",
   "execution_count": 11,
   "metadata": {},
   "outputs": [],
   "source": [
    "cos_dist = cosine_similarity(data1, data2)"
   ]
  },
  {
   "cell_type": "code",
   "execution_count": 12,
   "metadata": {},
   "outputs": [
    {
     "data": {
      "text/plain": [
       "(6000, 6000)"
      ]
     },
     "execution_count": 12,
     "metadata": {},
     "output_type": "execute_result"
    }
   ],
   "source": [
    "cos_dist.shape"
   ]
  },
  {
   "cell_type": "code",
   "execution_count": 13,
   "metadata": {},
   "outputs": [],
   "source": [
    "cos_dist_diag = np.diag(cos_dist)\n",
    "# cos_dist_diag = np.reshape(cos_dist_diag, (cos_dist_diag.shape[0], 1))"
   ]
  },
  {
   "cell_type": "code",
   "execution_count": 14,
   "metadata": {},
   "outputs": [
    {
     "data": {
      "text/plain": [
       "(6000,)"
      ]
     },
     "execution_count": 14,
     "metadata": {},
     "output_type": "execute_result"
    }
   ],
   "source": [
    "cos_dist_diag.shape"
   ]
  },
  {
   "cell_type": "code",
   "execution_count": 15,
   "metadata": {},
   "outputs": [],
   "source": [
    "cos = pd.Series(cos_dist_diag)"
   ]
  },
  {
   "cell_type": "code",
   "execution_count": 16,
   "metadata": {},
   "outputs": [],
   "source": [
    "data['cos_sim']= cos"
   ]
  },
  {
   "cell_type": "markdown",
   "metadata": {},
   "source": [
    "# evaluate\n",
    "色々な範囲でしきい値を設けて正解率を算出"
   ]
  },
  {
   "cell_type": "code",
   "execution_count": 17,
   "metadata": {},
   "outputs": [],
   "source": [
    "data = data.assign(\n",
    "    over80=lambda df: df['cos_sim'].apply(lambda x: 1 if x >= 0.8 else 0),\n",
    "    over75=lambda df: df['cos_sim'].apply(lambda x: 1 if x >= 0.75 else 0),\n",
    "    over70=lambda df: df['cos_sim'].apply(lambda x: 1 if x >= 0.7 else 0),\n",
    "    over65=lambda df: df['cos_sim'].apply(lambda x: 1 if x >= 0.65 else 0),\n",
    "    over60=lambda df: df['cos_sim'].apply(lambda x: 1 if x >= 0.6 else 0),\n",
    "    over55=lambda df: df['cos_sim'].apply(lambda x: 1 if x >= 0.55 else 0),\n",
    "    over50=lambda df: df['cos_sim'].apply(lambda x: 1 if x >= 0.5 else 0),\n",
    "    over45=lambda df: df['cos_sim'].apply(lambda x: 1 if x >= 0.45 else 0),\n",
    "    over40=lambda df: df['cos_sim'].apply(lambda x: 1 if x >= 0.4 else 0),\n",
    "    over35=lambda df: df['cos_sim'].apply(lambda x: 1 if x >= 0.35 else 0),\n",
    ")\n",
    "\n",
    "data['rand'] = pd.Series(np.random.randint(0, 2, len(data)), index=data.index )"
   ]
  },
  {
   "cell_type": "code",
   "execution_count": 18,
   "metadata": {},
   "outputs": [
    {
     "name": "stdout",
     "output_type": "stream",
     "text": [
      "random acc:  0.49483333333333335\n",
      "over80 acc:  0.6216666666666667\n",
      "over75 acc:  0.6155\n",
      "over70 acc:  0.6128333333333333\n",
      "over65 acc:  0.61\n",
      "over60 acc:  0.607\n",
      "over55 acc:  0.6031666666666666\n",
      "over50 acc:  0.5993333333333334\n",
      "over45 acc:  0.5951666666666666\n",
      "over40 acc:  0.5943333333333334\n",
      "over35 acc:  0.5918333333333333\n"
     ]
    }
   ],
   "source": [
    "num = len(data)\n",
    "\n",
    "\n",
    "acc = len(data[data['is_duplicate'] == data['rand']]) / num\n",
    "print('random acc: ', acc)\n",
    "\n",
    "for i in range(80, 30, -5):\n",
    "    acc = len(data[data['is_duplicate'] == data['over{}'.format(i)]]) / num\n",
    "    print('over{} acc: '.format(i), acc)"
   ]
  }
 ],
 "metadata": {
  "jupytext": {
   "text_representation": {
    "extension": ".py",
    "format_name": "light",
    "format_version": "1.4",
    "jupytext_version": "1.1.3"
   }
  },
  "kernelspec": {
   "display_name": "Python 3",
   "language": "python",
   "name": "python3"
  },
  "language_info": {
   "codemirror_mode": {
    "name": "ipython",
    "version": 3
   },
   "file_extension": ".py",
   "mimetype": "text/x-python",
   "name": "python",
   "nbconvert_exporter": "python",
   "pygments_lexer": "ipython3",
   "version": "3.6.5"
  }
 },
 "nbformat": 4,
 "nbformat_minor": 2
}
