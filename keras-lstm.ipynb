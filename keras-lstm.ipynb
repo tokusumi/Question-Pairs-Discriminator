{
 "cells": [
  {
   "cell_type": "code",
   "execution_count": 11,
   "metadata": {},
   "outputs": [],
   "source": [
    "import pandas as pd\n",
    "import numpy as np"
   ]
  },
  {
   "cell_type": "markdown",
   "metadata": {},
   "source": [
    "# データ取得"
   ]
  },
  {
   "cell_type": "code",
   "execution_count": 12,
   "metadata": {},
   "outputs": [],
   "source": [
    "data = pd.read_csv('data/train.csv')"
   ]
  },
  {
   "cell_type": "code",
   "execution_count": 13,
   "metadata": {},
   "outputs": [],
   "source": [
    "data = data[['jap_question_1_wakati', 'jap_question_2_wakati', 'is_duplicate']]"
   ]
  },
  {
   "cell_type": "code",
   "execution_count": 14,
   "metadata": {},
   "outputs": [
    {
     "name": "stdout",
     "output_type": "stream",
     "text": [
      "<class 'pandas.core.frame.DataFrame'>\n",
      "RangeIndex: 24000 entries, 0 to 23999\n",
      "Data columns (total 3 columns):\n",
      "jap_question_1_wakati    24000 non-null object\n",
      "jap_question_2_wakati    24000 non-null object\n",
      "is_duplicate             24000 non-null int64\n",
      "dtypes: int64(1), object(2)\n",
      "memory usage: 562.6+ KB\n"
     ]
    }
   ],
   "source": [
    "data.info()"
   ]
  },
  {
   "cell_type": "markdown",
   "metadata": {},
   "source": [
    "### 以下のように入力文をjoinする  \n",
    "[PAD] (input1) [SEP] (input2) [CLS]"
   ]
  },
  {
   "cell_type": "code",
   "execution_count": 15,
   "metadata": {},
   "outputs": [],
   "source": [
    "data['input'] = '[PAD] ' + data['jap_question_1_wakati'] + ' [SEP] ' + data[\"jap_question_2_wakati\"] + ' [CLS]'\n",
    "X = data[['input']]\n",
    "y = data[['is_duplicate']]"
   ]
  },
  {
   "cell_type": "code",
   "execution_count": 16,
   "metadata": {},
   "outputs": [
    {
     "data": {
      "text/html": [
       "<div>\n",
       "<style scoped>\n",
       "    .dataframe tbody tr th:only-of-type {\n",
       "        vertical-align: middle;\n",
       "    }\n",
       "\n",
       "    .dataframe tbody tr th {\n",
       "        vertical-align: top;\n",
       "    }\n",
       "\n",
       "    .dataframe thead th {\n",
       "        text-align: right;\n",
       "    }\n",
       "</style>\n",
       "<table border=\"1\" class=\"dataframe\">\n",
       "  <thead>\n",
       "    <tr style=\"text-align: right;\">\n",
       "      <th></th>\n",
       "      <th>input</th>\n",
       "    </tr>\n",
       "  </thead>\n",
       "  <tbody>\n",
       "    <tr>\n",
       "      <th>0</th>\n",
       "      <td>[PAD] 私 たち 自身 の 国 の を 開始 する ため の 手順 は 何 です か ？...</td>\n",
       "    </tr>\n",
       "    <tr>\n",
       "      <th>1</th>\n",
       "      <td>[PAD] どの よう に 私 は 私 が 紹介 し て 結論 を ​​ 書く べき 100...</td>\n",
       "    </tr>\n",
       "    <tr>\n",
       "      <th>2</th>\n",
       "      <td>[PAD] ジャイプール で 最高 の CLAT コーチング 研究所 は どれ です か ？...</td>\n",
       "    </tr>\n",
       "    <tr>\n",
       "      <th>3</th>\n",
       "      <td>[PAD] 第 三 次 世界 大戦 が 来 て い ます か ？  [SEP] 我々 は 世...</td>\n",
       "    </tr>\n",
       "    <tr>\n",
       "      <th>4</th>\n",
       "      <td>[PAD] なぜ NASA や ソ連 による いかなる さら なる 月面 着陸 が 行わ れ...</td>\n",
       "    </tr>\n",
       "  </tbody>\n",
       "</table>\n",
       "</div>"
      ],
      "text/plain": [
       "                                               input\n",
       "0  [PAD] 私 たち 自身 の 国 の を 開始 する ため の 手順 は 何 です か ？...\n",
       "1  [PAD] どの よう に 私 は 私 が 紹介 し て 結論 を ​​ 書く べき 100...\n",
       "2  [PAD] ジャイプール で 最高 の CLAT コーチング 研究所 は どれ です か ？...\n",
       "3  [PAD] 第 三 次 世界 大戦 が 来 て い ます か ？  [SEP] 我々 は 世...\n",
       "4  [PAD] なぜ NASA や ソ連 による いかなる さら なる 月面 着陸 が 行わ れ..."
      ]
     },
     "execution_count": 16,
     "metadata": {},
     "output_type": "execute_result"
    }
   ],
   "source": [
    "X.head()"
   ]
  },
  {
   "cell_type": "markdown",
   "metadata": {},
   "source": [
    "### 最大文字長の指定"
   ]
  },
  {
   "cell_type": "code",
   "execution_count": 17,
   "metadata": {},
   "outputs": [],
   "source": [
    "%matplotlib inline"
   ]
  },
  {
   "cell_type": "code",
   "execution_count": 18,
   "metadata": {},
   "outputs": [
    {
     "data": {
      "text/plain": [
       "<matplotlib.axes._subplots.AxesSubplot at 0x10d9e3588>"
      ]
     },
     "execution_count": 18,
     "metadata": {},
     "output_type": "execute_result"
    },
    {
     "data": {
      "image/png": "[encoded data removed]",
      "text/plain": [
       "<Figure size 432x288 with 1 Axes>"
      ]
     },
     "metadata": {
      "needs_background": "light"
     },
     "output_type": "display_data"
    }
   ],
   "source": [
    "# 分布の確認\n",
    "X['input'].apply(lambda x: len(x.split(' '))).hist()"
   ]
  },
  {
   "cell_type": "code",
   "execution_count": 19,
   "metadata": {},
   "outputs": [],
   "source": [
    "max_sentence_length = 200"
   ]
  },
  {
   "cell_type": "code",
   "execution_count": 20,
   "metadata": {},
   "outputs": [],
   "source": [
    "# 最大文字長以上のデータを削除\n",
    "condition = X['input'].apply(lambda x: len(x.split(' '))) <= max_sentence_length\n",
    "X = X[condition]\n",
    "y = y[condition]"
   ]
  },
  {
   "cell_type": "code",
   "execution_count": 21,
   "metadata": {},
   "outputs": [
    {
     "name": "stdout",
     "output_type": "stream",
     "text": [
      "(23996, 1)\n",
      "(23996, 1)\n"
     ]
    }
   ],
   "source": [
    "print(X.shape)\n",
    "print(y.shape)"
   ]
  },
  {
   "cell_type": "markdown",
   "metadata": {},
   "source": [
    "### 他のモデルと性能を比較するために単語辞書は別で定義しておく\n",
    "注: BERTと比較したいので、BERTのpretrainedモデルの辞書を使用"
   ]
  },
  {
   "cell_type": "code",
   "execution_count": 22,
   "metadata": {},
   "outputs": [],
   "source": [
    "with open('vocab.txt', 'r') as f:\n",
    "    vocab = f.read()"
   ]
  },
  {
   "cell_type": "code",
   "execution_count": 23,
   "metadata": {},
   "outputs": [],
   "source": [
    "id2vocab = {i: val for i, val in enumerate(vocab.split('\\n'))}\n",
    "vocab2id = {g: f for f, g in id2vocab.items()}"
   ]
  },
  {
   "cell_type": "code",
   "execution_count": 24,
   "metadata": {},
   "outputs": [],
   "source": [
    "def replace_id(text):\n",
    "    return \" \".join([str(vocab2id.get(f, vocab2id['[UNK]'])) for f in text.split(\" \")])\n",
    "\n",
    "X = X.assign(\n",
    "    input=lambda df: df['input'].apply(replace_id)\n",
    ")"
   ]
  },
  {
   "cell_type": "code",
   "execution_count": 25,
   "metadata": {},
   "outputs": [],
   "source": [
    "X_list = [[int(g) for g in f.split(' ')] for f in X['input'].to_list()]"
   ]
  },
  {
   "cell_type": "markdown",
   "metadata": {},
   "source": [
    "### ゼロ埋め\n",
    "全ての入力文が最大文字長になるように足りない文字数だけゼロ埋め"
   ]
  },
  {
   "cell_type": "code",
   "execution_count": 26,
   "metadata": {},
   "outputs": [
    {
     "name": "stderr",
     "output_type": "stream",
     "text": [
      "Using TensorFlow backend.\n"
     ]
    }
   ],
   "source": [
    "from keras.preprocessing.sequence import pad_sequences"
   ]
  },
  {
   "cell_type": "code",
   "execution_count": 27,
   "metadata": {},
   "outputs": [],
   "source": [
    "X_pre = pad_sequences(X_list, maxlen=max_sentence_length)"
   ]
  },
  {
   "cell_type": "code",
   "execution_count": 28,
   "metadata": {},
   "outputs": [],
   "source": [
    "y_pre = pd.get_dummies(y['is_duplicate']).to_numpy()"
   ]
  },
  {
   "cell_type": "markdown",
   "metadata": {},
   "source": [
    "# model\n",
    "LSTMを使用"
   ]
  },
  {
   "cell_type": "code",
   "execution_count": 29,
   "metadata": {},
   "outputs": [],
   "source": [
    "from keras.models import Sequential\n",
    "from keras.layers import Dense, Activation\n",
    "from keras.layers import Embedding\n",
    "from keras.layers.recurrent import LSTM\n",
    "from keras.optimizers import Adam\n",
    "from keras.callbacks import EarlyStopping"
   ]
  },
  {
   "cell_type": "code",
   "execution_count": 49,
   "metadata": {},
   "outputs": [],
   "source": [
    "num_words = len(id2vocab)\n",
    "emb_dim = 128\n",
    "num_labels = 2\n",
    "n_hidden = 200\n",
    "\n",
    "def make_model(len_seq, emb_dim, num_labels, n_hidden):\n",
    "    model = Sequential()\n",
    "    model.add(Embedding(num_words, emb_dim, input_length=len_seq))\n",
    "    model.add(LSTM(n_hidden, batch_input_shape=(None, len_seq, emb_dim), return_sequences=False))\n",
    "    model.add(Dense(num_labels))\n",
    "    model.add(Activation(\"sigmoid\"))\n",
    "    return model\n",
    "\n",
    "model = make_model(\n",
    "    len_seq=max_sentence_length,\n",
    "    emb_dim=emb_dim,\n",
    "    num_labels=num_labels,\n",
    "    n_hidden=n_hidden\n",
    ")"
   ]
  },
  {
   "cell_type": "code",
   "execution_count": 50,
   "metadata": {},
   "outputs": [
    {
     "name": "stdout",
     "output_type": "stream",
     "text": [
      "_________________________________________________________________\n",
      "Layer (type)                 Output Shape              Param #   \n",
      "=================================================================\n",
      "embedding_2 (Embedding)      (None, 200, 128)          4096768   \n",
      "_________________________________________________________________\n",
      "lstm_2 (LSTM)                (None, 200)               263200    \n",
      "_________________________________________________________________\n",
      "dense_2 (Dense)              (None, 2)                 402       \n",
      "_________________________________________________________________\n",
      "activation_2 (Activation)    (None, 2)                 0         \n",
      "=================================================================\n",
      "Total params: 4,360,370\n",
      "Trainable params: 4,360,370\n",
      "Non-trainable params: 0\n",
      "_________________________________________________________________\n"
     ]
    }
   ],
   "source": [
    "model.summary()"
   ]
  },
  {
   "cell_type": "markdown",
   "metadata": {},
   "source": [
    "# train and evaluation"
   ]
  },
  {
   "cell_type": "code",
   "execution_count": 51,
   "metadata": {},
   "outputs": [],
   "source": [
    "from sklearn.model_selection import train_test_split\n",
    "from sklearn.ensemble import RandomForestClassifier"
   ]
  },
  {
   "cell_type": "code",
   "execution_count": 52,
   "metadata": {},
   "outputs": [],
   "source": [
    "X_train, X_test, y_train, y_test = train_test_split(X_pre, y_pre, shuffle=True, random_state=123)"
   ]
  },
  {
   "cell_type": "code",
   "execution_count": 53,
   "metadata": {},
   "outputs": [],
   "source": [
    "optimizer = Adam(lr=0.001)\n",
    "model.compile(loss=\"binary_crossentropy\", optimizer=optimizer, metrics=['acc'])"
   ]
  },
  {
   "cell_type": "code",
   "execution_count": 54,
   "metadata": {
    "scrolled": true
   },
   "outputs": [
    {
     "name": "stdout",
     "output_type": "stream",
     "text": [
      "Train on 16197 samples, validate on 1800 samples\n",
      "Epoch 1/5\n",
      "16197/16197 [==============================] - 368s 23ms/step - loss: 0.6088 - acc: 0.6762 - val_loss: 0.5897 - val_acc: 0.7022\n",
      "Epoch 2/5\n",
      "16197/16197 [==============================] - 409s 25ms/step - loss: 0.5154 - acc: 0.7592 - val_loss: 0.5945 - val_acc: 0.6869\n",
      "Epoch 3/5\n",
      "16197/16197 [==============================] - 378s 23ms/step - loss: 0.4554 - acc: 0.7997 - val_loss: 0.6377 - val_acc: 0.6761\n",
      "Epoch 4/5\n",
      "16197/16197 [==============================] - 377s 23ms/step - loss: 0.4052 - acc: 0.8264 - val_loss: 0.6246 - val_acc: 0.6967\n",
      "Epoch 5/5\n",
      "16197/16197 [==============================] - 371s 23ms/step - loss: 0.3605 - acc: 0.8488 - val_loss: 0.7782 - val_acc: 0.6664\n"
     ]
    }
   ],
   "source": [
    "history = model.fit(X_train, y_train, epochs=5, batch_size=16, validation_split=0.1)"
   ]
  }
 ],
 "metadata": {
  "jupytext": {
   "text_representation": {
    "extension": ".py",
    "format_name": "light",
    "format_version": "1.4",
    "jupytext_version": "1.1.3"
   }
  },
  "kernelspec": {
   "display_name": "Python 3",
   "language": "python",
   "name": "python3"
  },
  "language_info": {
   "codemirror_mode": {
    "name": "ipython",
    "version": 3
   },
   "file_extension": ".py",
   "mimetype": "text/x-python",
   "name": "python",
   "nbconvert_exporter": "python",
   "pygments_lexer": "ipython3",
   "version": "3.6.5"
  }
 },
 "nbformat": 4,
 "nbformat_minor": 2
}
